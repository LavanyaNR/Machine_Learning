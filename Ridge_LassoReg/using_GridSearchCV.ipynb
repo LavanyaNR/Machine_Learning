{
 "cells": [
  {
   "cell_type": "code",
   "execution_count": 5,
   "metadata": {},
   "outputs": [],
   "source": [
    "import pandas as pd\n",
    "import numpy as np\n",
    "import matplotlib.pyplot as plt\n",
    "import seaborn as sns\n",
    "\n",
    "from sklearn.datasets import fetch_california_housing\n",
    "from sklearn.model_selection import train_test_split, GridSearchCV\n",
    "from sklearn.linear_model import Ridge, Lasso\n",
    "from sklearn.metrics import mean_squared_error\n"
   ]
  },
  {
   "cell_type": "code",
   "execution_count": 6,
   "metadata": {},
   "outputs": [],
   "source": [
    "ridge_params = {\"alpha\": [0.01, 0.1, 1, 10, 100, 1000]}\n",
    "lasso_params = {\"alpha\": [0.001, 0.01, 0.1, 1, 10, 100]}\n"
   ]
  },
  {
   "cell_type": "markdown",
   "metadata": {},
   "source": []
  },
  {
   "cell_type": "code",
   "execution_count": 7,
   "metadata": {},
   "outputs": [],
   "source": [
    "from sklearn.model_selection import train_test_split\n",
    "from sklearn.datasets import fetch_california_housing\n",
    "\n",
    "# Load dataset\n",
    "data = fetch_california_housing()\n",
    "df = pd.DataFrame(data.data, columns=data.feature_names)\n",
    "df[\"Target\"] = data.target  # House price\n",
    "\n",
    "# Define features and target\n",
    "X = df.drop(columns=[\"Target\"])\n",
    "y = df[\"Target\"]\n",
    "\n",
    "# Split into train & test sets\n",
    "X_train, X_test, y_train, y_test = train_test_split(X, y, test_size=0.2, random_state=42)\n"
   ]
  },
  {
   "cell_type": "code",
   "execution_count": 8,
   "metadata": {},
   "outputs": [
    {
     "name": "stdout",
     "output_type": "stream",
     "text": [
      "Best Ridge Alpha: 10\n",
      "Best Ridge MSE: 0.52\n"
     ]
    }
   ],
   "source": [
    "ridge = Ridge()\n",
    "ridge_grid = GridSearchCV(ridge, ridge_params, scoring=\"neg_mean_squared_error\", cv=5)\n",
    "ridge_grid.fit(X_train, y_train)\n",
    "\n",
    "# Best Alpha for Ridge\n",
    "best_ridge_alpha = ridge_grid.best_params_[\"alpha\"]\n",
    "best_ridge_mse = -ridge_grid.best_score_\n",
    "\n",
    "print(f\"Best Ridge Alpha: {best_ridge_alpha}\")\n",
    "print(f\"Best Ridge MSE: {best_ridge_mse:.2f}\")\n"
   ]
  },
  {
   "cell_type": "code",
   "execution_count": 9,
   "metadata": {},
   "outputs": [
    {
     "name": "stdout",
     "output_type": "stream",
     "text": [
      "Best Lasso Alpha: 0.001\n",
      "Best Lasso MSE: 0.52\n"
     ]
    }
   ],
   "source": [
    "lasso = Lasso()\n",
    "lasso_grid = GridSearchCV(lasso, lasso_params, scoring=\"neg_mean_squared_error\", cv=5)\n",
    "lasso_grid.fit(X_train, y_train)\n",
    "\n",
    "# Best Alpha for Lasso\n",
    "best_lasso_alpha = lasso_grid.best_params_[\"alpha\"]\n",
    "best_lasso_mse = -lasso_grid.best_score_\n",
    "\n",
    "print(f\"Best Lasso Alpha: {best_lasso_alpha}\")\n",
    "print(f\"Best Lasso MSE: {best_lasso_mse:.2f}\")\n"
   ]
  },
  {
   "cell_type": "code",
   "execution_count": 10,
   "metadata": {},
   "outputs": [
    {
     "name": "stdout",
     "output_type": "stream",
     "text": [
      "Final Ridge Regression MSE: 0.56\n",
      "Final Lasso Regression MSE: 0.55\n"
     ]
    }
   ],
   "source": [
    "# Train Ridge with best alpha\n",
    "ridge_best = Ridge(alpha=best_ridge_alpha)\n",
    "ridge_best.fit(X_train, y_train)\n",
    "y_pred_ridge_best = ridge_best.predict(X_test)\n",
    "\n",
    "# Train Lasso with best alpha\n",
    "lasso_best = Lasso(alpha=best_lasso_alpha)\n",
    "lasso_best.fit(X_train, y_train)\n",
    "y_pred_lasso_best = lasso_best.predict(X_test)\n",
    "\n",
    "# Evaluate MSE\n",
    "mse_ridge_best = mean_squared_error(y_test, y_pred_ridge_best)\n",
    "mse_lasso_best = mean_squared_error(y_test, y_pred_lasso_best)\n",
    "\n",
    "print(f\"Final Ridge Regression MSE: {mse_ridge_best:.2f}\")\n",
    "print(f\"Final Lasso Regression MSE: {mse_lasso_best:.2f}\")\n"
   ]
  },
  {
   "cell_type": "code",
   "execution_count": 11,
   "metadata": {},
   "outputs": [
    {
     "name": "stderr",
     "output_type": "stream",
     "text": [
      "C:\\Users\\HP\\AppData\\Local\\Temp\\ipykernel_44052\\560184323.py:6: FutureWarning: \n",
      "\n",
      "Passing `palette` without assigning `hue` is deprecated and will be removed in v0.14.0. Assign the `x` variable to `hue` and set `legend=False` for the same effect.\n",
      "\n",
      "  sns.barplot(x=models, y=mse_values, palette=\"Blues\")\n"
     ]
    },
    {
     "data": {
      "image/png": "[encoded data removed]",
      "text/plain": [
       "<Figure size 800x500 with 1 Axes>"
      ]
     },
     "metadata": {},
     "output_type": "display_data"
    }
   ],
   "source": [
    "# Compare MSE values\n",
    "models = [\"Optimized Ridge\", \"Optimized Lasso\"]\n",
    "mse_values = [mse_ridge_best, mse_lasso_best]\n",
    "\n",
    "plt.figure(figsize=(8, 5))\n",
    "sns.barplot(x=models, y=mse_values, palette=\"Blues\")\n",
    "plt.ylabel(\"Mean Squared Error\")\n",
    "plt.title(\"Optimized Model Performance\")\n",
    "plt.show()\n"
   ]
  },
  {
   "cell_type": "code",
   "execution_count": null,
   "metadata": {},
   "outputs": [],
   "source": []
  }
 ],
 "metadata": {
  "kernelspec": {
   "display_name": "Python 3",
   "language": "python",
   "name": "python3"
  },
  "language_info": {
   "codemirror_mode": {
    "name": "ipython",
    "version": 3
   },
   "file_extension": ".py",
   "mimetype": "text/x-python",
   "name": "python",
   "nbconvert_exporter": "python",
   "pygments_lexer": "ipython3",
   "version": "3.13.2"
  }
 },
 "nbformat": 4,
 "nbformat_minor": 2
}
